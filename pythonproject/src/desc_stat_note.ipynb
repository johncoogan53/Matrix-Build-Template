{
 "cells": [
  {
   "cell_type": "markdown",
   "metadata": {},
   "source": [
    "### This notebook will step through a descriptive statistics script"
   ]
  },
  {
   "cell_type": "markdown",
   "metadata": {},
   "source": [
    "First we import a lib.py file which contains a read from CSV function and a summary statistics function (from pandas)"
   ]
  },
  {
   "cell_type": "code",
   "execution_count": 10,
   "metadata": {},
   "outputs": [],
   "source": [
    "import lib"
   ]
  },
  {
   "cell_type": "markdown",
   "metadata": {},
   "source": [
    "Then we will attempt to load the data from a CSV file located within this project (for generality we will call this data.csv)"
   ]
  },
  {
   "cell_type": "code",
   "execution_count": 13,
   "metadata": {},
   "outputs": [],
   "source": [
    "data = lib.load_data_from_csv(\"https://www.statlearning.com/s/Auto.csv\")"
   ]
  },
  {
   "cell_type": "markdown",
   "metadata": {},
   "source": [
    "Then we will check to ensure that the data was loaded correctly followed by executing the summary function"
   ]
  },
  {
   "cell_type": "code",
   "execution_count": 14,
   "metadata": {},
   "outputs": [
    {
     "name": "stdout",
     "output_type": "stream",
     "text": [
      "    mpg  cylinders  displacement  ... year  origin                       name\n",
      "0  18.0          8         307.0  ...   70       1  chevrolet chevelle malibu\n",
      "1  15.0          8         350.0  ...   70       1          buick skylark 320\n",
      "2  18.0          8         318.0  ...   70       1         plymouth satellite\n",
      "3  16.0          8         304.0  ...   70       1              amc rebel sst\n",
      "4  17.0          8         302.0  ...   70       1                ford torino\n",
      "\n",
      "[5 rows x 9 columns]\n",
      "              mpg   cylinders  ...        year      origin\n",
      "count  397.000000  397.000000  ...  397.000000  397.000000\n",
      "mean    23.515869    5.458438  ...   75.994962    1.574307\n",
      "std      7.825804    1.701577  ...    3.690005    0.802549\n",
      "min      9.000000    3.000000  ...   70.000000    1.000000\n",
      "25%     17.500000    4.000000  ...   73.000000    1.000000\n",
      "50%     23.000000    4.000000  ...   76.000000    1.000000\n",
      "75%     29.000000    8.000000  ...   79.000000    2.000000\n",
      "max     46.600000    8.000000  ...   82.000000    3.000000\n",
      "\n",
      "[8 rows x 7 columns]\n"
     ]
    }
   ],
   "source": [
    "if data is not None:\n",
    "    summary = lib.summary_statistics(data)\n",
    "    print(data.head())\n",
    "    print(summary)"
   ]
  }
 ],
 "metadata": {
  "kernelspec": {
   "display_name": "Python 3",
   "language": "python",
   "name": "python3"
  },
  "language_info": {
   "codemirror_mode": {
    "name": "ipython",
    "version": 3
   },
   "file_extension": ".py",
   "mimetype": "text/x-python",
   "name": "python",
   "nbconvert_exporter": "python",
   "pygments_lexer": "ipython3",
   "version": "3.11.5"
  },
  "orig_nbformat": 4
 },
 "nbformat": 4,
 "nbformat_minor": 2
}
