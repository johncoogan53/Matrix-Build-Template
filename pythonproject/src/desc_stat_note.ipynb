{
 "cells": [
  {
   "cell_type": "markdown",
   "metadata": {},
   "source": [
    "### This notebook will step through a descriptive statistics script"
   ]
  },
  {
   "cell_type": "markdown",
   "metadata": {},
   "source": [
    "First we import a lib.py file which contains a read from CSV function and a summary statistics function (from pandas)"
   ]
  },
  {
   "cell_type": "code",
   "execution_count": 1,
   "metadata": {},
   "outputs": [],
   "source": [
    "import lib"
   ]
  },
  {
   "cell_type": "markdown",
   "metadata": {},
   "source": [
    "Then we will attempt to load the data from a CSV file located within this project (for generality we will call this data.csv)"
   ]
  },
  {
   "cell_type": "code",
   "execution_count": 4,
   "metadata": {},
   "outputs": [],
   "source": [
    "data = lib.load_data_from_csv(\"https://people.sc.fsu.edu/~jburkardt/data/csv/addresses.csv\")"
   ]
  },
  {
   "cell_type": "markdown",
   "metadata": {},
   "source": [
    "Then we will check to ensure that the data was loaded correctly followed by executing the summary function"
   ]
  },
  {
   "cell_type": "code",
   "execution_count": 5,
   "metadata": {},
   "outputs": [
    {
     "name": "stdout",
     "output_type": "stream",
     "text": [
      "                    John       Doe                 120 jefferson st.  \\\n",
      "0                   Jack  McGinnis                      220 hobo Av.   \n",
      "1          John \"Da Man\"    Repici                 120 Jefferson St.   \n",
      "2                Stephen     Tyler  7452 Terrace \"At the Plaza\" road   \n",
      "3                    NaN  Blankman                               NaN   \n",
      "4  Joan \"the bone\", Anne       Jet               9th, at Terrace plc   \n",
      "\n",
      "     Riverside   NJ   08075  \n",
      "0        Phila   PA    9119  \n",
      "1    Riverside   NJ    8075  \n",
      "2     SomeTown   SD   91234  \n",
      "3     SomeTown   SD     298  \n",
      "4  Desert City   CO     123  \n",
      "              08075\n",
      "count      5.000000\n",
      "mean   21769.800000\n",
      "std    39059.209909\n",
      "min      123.000000\n",
      "25%      298.000000\n",
      "50%     8075.000000\n",
      "75%     9119.000000\n",
      "max    91234.000000\n"
     ]
    }
   ],
   "source": [
    "if data is not None:\n",
    "    summary = lib.summary_statistics(data)\n",
    "    print(data.head())\n",
    "    print(summary)"
   ]
  }
 ],
 "metadata": {
  "kernelspec": {
   "display_name": "Python 3",
   "language": "python",
   "name": "python3"
  },
  "language_info": {
   "codemirror_mode": {
    "name": "ipython",
    "version": 3
   },
   "file_extension": ".py",
   "mimetype": "text/x-python",
   "name": "python",
   "nbconvert_exporter": "python",
   "pygments_lexer": "ipython3",
   "version": "3.11.5"
  },
  "orig_nbformat": 4
 },
 "nbformat": 4,
 "nbformat_minor": 2
}
