{
 "cells": [
  {
   "cell_type": "markdown",
   "metadata": {},
   "source": [
    "### This notebook will step through a descriptive statistics script"
   ]
  },
  {
   "cell_type": "markdown",
   "metadata": {},
   "source": [
    "First we import a lib.py file which contains a read from CSV function and a summary statistics function (from pandas)"
   ]
  },
  {
   "cell_type": "code",
   "execution_count": 1,
   "metadata": {},
   "outputs": [],
   "source": [
    "import lib\n",
    "import numpy as np\n",
    "import matplotlib.pyplot as plt\n",
    "import seaborn as sns"
   ]
  },
  {
   "cell_type": "markdown",
   "metadata": {},
   "source": [
    "Then we will attempt to load the data from a CSV file located within this project (for generality we will call this data.csv)"
   ]
  },
  {
   "cell_type": "code",
   "execution_count": 2,
   "metadata": {},
   "outputs": [],
   "source": [
    "data = lib.load_data_from_csv(\"https://www.statlearning.com/s/Auto.csv\")"
   ]
  },
  {
   "cell_type": "markdown",
   "metadata": {},
   "source": [
    "Then we will check to ensure that the data was loaded correctly followed by executing the summary function"
   ]
  },
  {
   "cell_type": "code",
   "execution_count": 3,
   "metadata": {},
   "outputs": [
    {
     "name": "stdout",
     "output_type": "stream",
     "text": [
      "    mpg  cylinders  displacement horsepower  weight  acceleration  year  \\\n",
      "0  18.0          8         307.0        130    3504          12.0    70   \n",
      "1  15.0          8         350.0        165    3693          11.5    70   \n",
      "2  18.0          8         318.0        150    3436          11.0    70   \n",
      "3  16.0          8         304.0        150    3433          12.0    70   \n",
      "4  17.0          8         302.0        140    3449          10.5    70   \n",
      "\n",
      "   origin                       name  \n",
      "0       1  chevrolet chevelle malibu  \n",
      "1       1          buick skylark 320  \n",
      "2       1         plymouth satellite  \n",
      "3       1              amc rebel sst  \n",
      "4       1                ford torino  \n",
      "              mpg   cylinders  displacement       weight  acceleration  \\\n",
      "count  397.000000  397.000000    397.000000   397.000000    397.000000   \n",
      "mean    23.515869    5.458438    193.532746  2970.261965     15.555668   \n",
      "std      7.825804    1.701577    104.379583   847.904119      2.749995   \n",
      "min      9.000000    3.000000     68.000000  1613.000000      8.000000   \n",
      "25%     17.500000    4.000000    104.000000  2223.000000     13.800000   \n",
      "50%     23.000000    4.000000    146.000000  2800.000000     15.500000   \n",
      "75%     29.000000    8.000000    262.000000  3609.000000     17.100000   \n",
      "max     46.600000    8.000000    455.000000  5140.000000     24.800000   \n",
      "\n",
      "             year      origin  \n",
      "count  397.000000  397.000000  \n",
      "mean    75.994962    1.574307  \n",
      "std      3.690005    0.802549  \n",
      "min     70.000000    1.000000  \n",
      "25%     73.000000    1.000000  \n",
      "50%     76.000000    1.000000  \n",
      "75%     79.000000    2.000000  \n",
      "max     82.000000    3.000000  \n"
     ]
    }
   ],
   "source": [
    "if data is not None:\n",
    "    summary = lib.summary_statistics(data)\n",
    "    print(data.head())\n",
    "    print(summary)"
   ]
  },
  {
   "cell_type": "code",
   "execution_count": 4,
   "metadata": {},
   "outputs": [],
   "source": [
    "def plot_visualize(dataframe):\n",
    "    \"\"\"A test of data visualization for a given data set\"\"\"\n",
    "    origin_categories = [\"American\", \"European\", \"Japanese\"]\n",
    "    data[\"origin\"] = pd.Categorical(data[\"origin\"], origin_categories)\n",
    "    sns.lmplot(x=\"weight\", y=\"mpg\", data=data, hue=\"Origin\")\n",
    "    plt.xlabel(\"Vehicle Weight\")\n",
    "    plt.ylabel(\"MPG\")\n",
    "    plt.title(\"Scatter Plot of Vehicle Weight vs MPG by car origin\")\n",
    "    plt.show()\n",
    "    return None\n"
   ]
  }
 ],
 "metadata": {
  "kernelspec": {
   "display_name": "Python 3",
   "language": "python",
   "name": "python3"
  },
  "language_info": {
   "codemirror_mode": {
    "name": "ipython",
    "version": 3
   },
   "file_extension": ".py",
   "mimetype": "text/x-python",
   "name": "python",
   "nbconvert_exporter": "python",
   "pygments_lexer": "ipython3",
   "version": "3.11.5"
  },
  "orig_nbformat": 4
 },
 "nbformat": 4,
 "nbformat_minor": 2
}
